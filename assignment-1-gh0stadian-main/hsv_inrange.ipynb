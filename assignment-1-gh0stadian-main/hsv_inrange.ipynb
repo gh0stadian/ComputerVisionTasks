{
 "cells": [
  {
   "cell_type": "code",
   "execution_count": null,
   "outputs": [],
   "source": [
    "import cv2\n",
    "import numpy as np\n",
    "from matplotlib import pyplot as plt"
   ],
   "metadata": {
    "collapsed": false
   }
  },
  {
   "cell_type": "code",
   "execution_count": null,
   "outputs": [],
   "source": [
    "img = cv2.imread('bc.tif')\n",
    "\n",
    "img = cv2.cvtColor(img, cv2.COLOR_BGR2HSV)\n",
    "\n",
    "out = img.copy()"
   ],
   "metadata": {
    "collapsed": false
   }
  },
  {
   "cell_type": "code",
   "execution_count": null,
   "outputs": [],
   "source": [
    "cv2.namedWindow(\"TrackedBars\")\n",
    "cv2.resizeWindow(\"TrackedBars\", 640, 240)"
   ],
   "metadata": {
    "collapsed": false
   }
  },
  {
   "cell_type": "code",
   "execution_count": null,
   "outputs": [],
   "source": [
    "def on_trackbar(val):\n",
    "    h_min = cv2.getTrackbarPos(\"lowH\", \"TrackedBars\")\n",
    "    h_max = cv2.getTrackbarPos(\"highH\", \"TrackedBars\")\n",
    "    s_min = cv2.getTrackbarPos(\"lowS\", \"TrackedBars\")\n",
    "    s_max = cv2.getTrackbarPos(\"highS\", \"TrackedBars\")\n",
    "    v_min = cv2.getTrackbarPos(\"lowV\", \"TrackedBars\")\n",
    "    v_max = cv2.getTrackbarPos(\"highV\", \"TrackedBars\")\n",
    "\n",
    "    low =  (h_min, s_min, v_min)\n",
    "    high = (h_max, s_max, v_max)\n",
    "    out = cv2.inRange(img, low, high)\n",
    "    cv2.imshow(\"Mask\", out)\n",
    "\n",
    "cv2.createTrackbar(\"lowH\", \"TrackedBars\", 0, 179, on_trackbar)\n",
    "cv2.createTrackbar(\"highH\", \"TrackedBars\", 179, 179, on_trackbar)\n",
    "cv2.createTrackbar(\"lowS\", \"TrackedBars\", 0, 255, on_trackbar)\n",
    "cv2.createTrackbar(\"highS\", \"TrackedBars\", 255, 255, on_trackbar)\n",
    "cv2.createTrackbar(\"lowV\", \"TrackedBars\", 0, 255, on_trackbar)\n",
    "cv2.createTrackbar(\"highV\", \"TrackedBars\", 255, 255, on_trackbar)"
   ],
   "metadata": {
    "collapsed": false
   }
  },
  {
   "cell_type": "code",
   "execution_count": null,
   "outputs": [],
   "source": [
    "on_trackbar(0)\n",
    "cv2.waitKey(0)"
   ],
   "metadata": {
    "collapsed": false,
    "pycharm": {
     "is_executing": true
    }
   }
  },
  {
   "cell_type": "code",
   "execution_count": null,
   "outputs": [],
   "source": [
    "# 178, 72, 0\n",
    "# 255, 201, 73"
   ],
   "metadata": {
    "collapsed": false
   }
  },
  {
   "cell_type": "code",
   "execution_count": null,
   "outputs": [],
   "source": [],
   "metadata": {
    "collapsed": false
   }
  }
 ],
 "metadata": {
  "kernelspec": {
   "display_name": "Python 3",
   "language": "python",
   "name": "python3"
  },
  "language_info": {
   "codemirror_mode": {
    "name": "ipython",
    "version": 2
   },
   "file_extension": ".py",
   "mimetype": "text/x-python",
   "name": "python",
   "nbconvert_exporter": "python",
   "pygments_lexer": "ipython2",
   "version": "2.7.6"
  }
 },
 "nbformat": 4,
 "nbformat_minor": 0
}
